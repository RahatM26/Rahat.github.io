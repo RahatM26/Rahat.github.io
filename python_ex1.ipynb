{
  "nbformat": 4,
  "nbformat_minor": 0,
  "metadata": {
    "colab": {
      "provenance": [],
      "include_colab_link": true
    },
    "kernelspec": {
      "name": "python3",
      "display_name": "Python 3"
    },
    "language_info": {
      "name": "python"
    }
  },
  "cells": [
    {
      "cell_type": "markdown",
      "metadata": {
        "id": "view-in-github",
        "colab_type": "text"
      },
      "source": [
        "<a href=\"https://colab.research.google.com/github/RahatM26/Rahat.github.io/blob/main/python_ex1.ipynb\" target=\"_parent\"><img src=\"https://colab.research.google.com/assets/colab-badge.svg\" alt=\"Open In Colab\"/></a>"
      ]
    },
    {
      "cell_type": "markdown",
      "source": [
        "### **Python Basics Exercise 1**"
      ],
      "metadata": {
        "id": "WavzXiU6pqYs"
      }
    },
    {
      "cell_type": "markdown",
      "source": [
        "\n",
        "## Exercise 1: Printing\n",
        "### Task:\n",
        "Print the following message: \"Hello, Python!\""
      ],
      "metadata": {
        "id": "1K092Tujp0S-"
      }
    },
    {
      "cell_type": "code",
      "source": [
        "print('Hello,Python')"
      ],
      "metadata": {
        "colab": {
          "base_uri": "https://localhost:8080/"
        },
        "id": "drvra7Tsrhw-",
        "outputId": "2626d7cb-1ed0-4681-c007-1b276be6fa8a"
      },
      "execution_count": null,
      "outputs": [
        {
          "output_type": "stream",
          "name": "stdout",
          "text": [
            "Hello, Python!\n"
          ]
        }
      ]
    },
    {
      "cell_type": "markdown",
      "source": [
        "## Exercise 2: Variables and Data Types\n",
        "### Task:\n",
        "Create a variable `name` and assign it your name as a string. Then, print it."
      ],
      "metadata": {
        "id": "-An4H9_atBHP"
      }
    },
    {
      "cell_type": "code",
      "source": [
        "string = 'Rahat'\n",
        "print(string)"
      ],
      "metadata": {
        "colab": {
          "base_uri": "https://localhost:8080/"
        },
        "id": "tr9X_rzytCzv",
        "outputId": "f69badc5-bc81-4718-e95e-b942ac53a783"
      },
      "execution_count": 1,
      "outputs": [
        {
          "output_type": "stream",
          "name": "stdout",
          "text": [
            "Rahat\n"
          ]
        }
      ]
    },
    {
      "cell_type": "markdown",
      "source": [
        "## Exercise 3: User Input\n",
        "### Task:\n",
        "Ask the user to enter their favorite color and store it in a variable. Then, print \"Your favorite color is ___\""
      ],
      "metadata": {
        "id": "CLzw6wNQtQhm"
      }
    },
    {
      "cell_type": "code",
      "source": [
        "user_input = input('What is your favourite colour?')\n",
        "print('your favourite colour is___')"
      ],
      "metadata": {
        "colab": {
          "base_uri": "https://localhost:8080/"
        },
        "id": "B-T9UA-etV6_",
        "outputId": "7fe22229-078a-41b6-8e74-c54b6c332a6a"
      },
      "execution_count": 11,
      "outputs": [
        {
          "output_type": "stream",
          "name": "stdout",
          "text": [
            "What is your favourite colour?blue\n",
            "your favourite colour is___\n"
          ]
        }
      ]
    },
    {
      "cell_type": "markdown",
      "source": [
        "## Exercise 4: Simple Conditionals\n",
        "### Task:\n",
        "Write a program that asks the user for their age. If they are 18 or older, print \"You are an adult\". Otherwise, print \"You are a minor\"."
      ],
      "metadata": {
        "id": "96LdlrHStuBw"
      }
    },
    {
      "cell_type": "code",
      "source": [
        "age = 17\n",
        "if age > 18:\n",
        "  print('you are a teen')\n",
        "else:\n",
        "    print('you are a minor')"
      ],
      "metadata": {
        "colab": {
          "base_uri": "https://localhost:8080/"
        },
        "id": "hbaWtMfqtvZb",
        "outputId": "a7720ccd-428a-4b57-bb99-40cf461271ed"
      },
      "execution_count": 15,
      "outputs": [
        {
          "output_type": "stream",
          "name": "stdout",
          "text": [
            "you are a minor\n"
          ]
        }
      ]
    },
    {
      "cell_type": "markdown",
      "source": [
        "## Exercise 5: Even or Odd\n",
        "### Task:\n",
        "Ask the user to enter a number. Check if the number is even or odd and print the result."
      ],
      "metadata": {
        "id": "YcSYS6jTtz4-"
      }
    },
    {
      "cell_type": "code",
      "source": [
        "user_input = input('enter a number')\n"
      ],
      "metadata": {
        "colab": {
          "base_uri": "https://localhost:8080/"
        },
        "id": "NyFdva-jt38F",
        "outputId": "c0ca6fd5-dd0c-45f6-b729-d03a3fd2f6d5"
      },
      "execution_count": null,
      "outputs": [
        {
          "output_type": "stream",
          "name": "stdout",
          "text": [
            "Enter a number: 2\n",
            "Even number\n"
          ]
        }
      ]
    },
    {
      "cell_type": "markdown",
      "source": [
        "## Exercise 6: For Loop\n",
        "### Task:\n",
        "Write a for loop that prints the numbers from 1 to 5."
      ],
      "metadata": {
        "id": "M9_wpBLmuBN7"
      }
    },
    {
      "cell_type": "code",
      "source": [
        "for i in range(1,6):\n",
        "print(i)"
      ],
      "metadata": {
        "colab": {
          "base_uri": "https://localhost:8080/",
          "height": 106
        },
        "id": "58YhJqvduGzf",
        "outputId": "9c275692-a4fc-416d-f02b-e28a68ecdcd3"
      },
      "execution_count": 17,
      "outputs": [
        {
          "output_type": "error",
          "ename": "IndentationError",
          "evalue": "expected an indented block after 'for' statement on line 1 (<ipython-input-17-f20d53788048>, line 2)",
          "traceback": [
            "\u001b[0;36m  File \u001b[0;32m\"<ipython-input-17-f20d53788048>\"\u001b[0;36m, line \u001b[0;32m2\u001b[0m\n\u001b[0;31m    print(i)\u001b[0m\n\u001b[0m    ^\u001b[0m\n\u001b[0;31mIndentationError\u001b[0m\u001b[0;31m:\u001b[0m expected an indented block after 'for' statement on line 1\n"
          ]
        }
      ]
    },
    {
      "cell_type": "markdown",
      "source": [
        "## Exercise 7: While Loop\n",
        "### Task:\n",
        "Write a while loop that prints numbers from 1 to 5."
      ],
      "metadata": {
        "id": "Tvvw7QLnuLVz"
      }
    },
    {
      "cell_type": "code",
      "source": [],
      "metadata": {
        "colab": {
          "base_uri": "https://localhost:8080/"
        },
        "id": "fLaorZLFuOlv",
        "outputId": "56a55b8d-6788-4a4c-f6f8-59b54ca33971"
      },
      "execution_count": null,
      "outputs": [
        {
          "output_type": "stream",
          "name": "stdout",
          "text": [
            "1\n",
            "2\n",
            "3\n",
            "4\n",
            "5\n"
          ]
        }
      ]
    },
    {
      "cell_type": "markdown",
      "source": [
        "## Exercise 8: Sum of Numbers\n",
        "### Task:\n",
        "Write a loop that calculates and prints the sum of numbers from 1 to 10."
      ],
      "metadata": {
        "id": "AUcAuhZZuTQT"
      }
    },
    {
      "cell_type": "code",
      "source": [],
      "metadata": {
        "colab": {
          "base_uri": "https://localhost:8080/"
        },
        "id": "ev3EHm1duW62",
        "outputId": "cec67a48-c959-460b-a9c4-6a0328e3033b"
      },
      "execution_count": null,
      "outputs": [
        {
          "output_type": "stream",
          "name": "stdout",
          "text": [
            "Sum: 55\n"
          ]
        }
      ]
    },
    {
      "cell_type": "markdown",
      "source": [
        "## Exercise 9: FizzBuzz\n",
        "### Task:\n",
        "Write a program that prints numbers from 1 to 20.\n",
        "- If a number is divisible by 3, print \"Fizz\" instead.\n",
        "- If a number is divisible by 5, print \"Buzz\" instead.\n",
        "- If a number is divisible by both 3 and 5, print \"FizzBuzz\"."
      ],
      "metadata": {
        "id": "GDSmiDsIucex"
      }
    },
    {
      "cell_type": "code",
      "source": [],
      "metadata": {
        "id": "n1dKRLrgudjv",
        "outputId": "e84c27b8-0d42-4e70-ddcc-2a324460daa3",
        "colab": {
          "base_uri": "https://localhost:8080/"
        }
      },
      "execution_count": null,
      "outputs": [
        {
          "output_type": "stream",
          "name": "stdout",
          "text": [
            "1\n",
            "2\n",
            "Fizz\n",
            "4\n",
            "Buzz\n",
            "Fizz\n",
            "7\n",
            "8\n",
            "Fizz\n",
            "Buzz\n",
            "11\n",
            "Fizz\n",
            "13\n",
            "14\n",
            "FizzBuzz\n",
            "16\n",
            "17\n",
            "Fizz\n",
            "19\n",
            "Buzz\n"
          ]
        }
      ]
    }
  ]
}